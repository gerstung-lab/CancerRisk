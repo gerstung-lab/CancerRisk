{
 "cells": [
  {
   "cell_type": "code",
   "execution_count": 1,
   "id": "6c6dfc1e-48d8-431e-850f-6738fc3d76df",
   "metadata": {},
   "outputs": [
    {
     "name": "stdout",
     "output_type": "stream",
     "text": [
      "0 oesophagus\n",
      "1 stomach\n",
      "2 colorectal\n",
      "3 liver\n",
      "4 pancreas\n",
      "5 lung\n",
      "6 melanoma\n",
      "7 breast\n",
      "8 cervix_uteri\n",
      "9 corpus_uteri\n",
      "10 ovary\n",
      "11 prostate\n",
      "12 testis\n",
      "13 kidney\n",
      "14 bladder\n",
      "15 brain\n",
      "16 thyroid\n",
      "17 non_hodgkin_lymphoma\n",
      "18 multiple_myeloma\n",
      "19 AML\n",
      "20 other\n",
      "21 death\n"
     ]
    }
   ],
   "source": [
    "## Custom Modules\n",
    "#=======================================================================================================================\n",
    "import sys\n",
    "import os \n",
    "import tqdm\n",
    "import h5py\n",
    "import dill\n",
    "import subprocess\n",
    "import time\n",
    "import pickle\n",
    "from _custom_functions import KM, CIF, metric_table, round_\n",
    "from _plots import Age_Sex_plot, risk_plot_5yr, cumhaz_plot \n",
    "\n",
    "import numpy as np \n",
    "import pandas as pd \n",
    "from sklearn import metrics\n",
    "from scipy import interp\n",
    "from sklearn.linear_model import LinearRegression\n",
    "from scipy.stats.mstats import gmean\n",
    "\n",
    "from statsmodels.stats.multitest import multipletests\n",
    "from scipy.stats import spearmanr\n",
    "from scipy.stats import pearsonr\n",
    "from sklearn.metrics import r2_score\n",
    "\n",
    "import matplotlib as mpl\n",
    "import matplotlib.pyplot as plt\n",
    "import seaborn as sns\n",
    "\n",
    "ROOT_DIR = '/nfs/research/sds/sds-ukb-cancer/'\n",
    "\n",
    "sys.path.append(ROOT_DIR + 'projects/CancerRisk/scripts/model')\n",
    "from m1 import predictor\n",
    "\n",
    "events = ['oesophagus', 'stomach', 'colorectal', 'liver', 'pancreas', 'lung', 'melanoma', 'breast', \n",
    "                'cervix_uteri', 'corpus_uteri', 'ovary', 'prostate', 'testis', 'kidney', 'bladder', 'brain',\n",
    "                'thyroid', 'non_hodgkin_lymphoma', 'multiple_myeloma', 'AML', 'other', 'death']\n",
    "\n",
    "\n",
    "Events = ['Oesophagus', 'Stomach', 'Colorectal', 'Liver', 'Pancreas', 'Lung', 'Melanoma', 'Breast', \n",
    "                'Cervix Uteri', 'Corpus Uteri', 'Ovary', 'Prostate', 'Testis', 'Kidney', 'Bladder', 'Brain',\n",
    "                'Thyroid', 'NHL', 'MM', 'AML', 'Other', 'Death']\n",
    "\n",
    "for cc in range(22):\n",
    "    print(cc, events[cc])\n",
    "\n",
    "disease_codes = np.load(ROOT_DIR + 'projects/CancerRisk/data/prep/disease_codes.npy', allow_pickle=True)"
   ]
  },
  {
   "cell_type": "code",
   "execution_count": 2,
   "id": "064514c6-2a7c-4799-9b9b-27189eff486f",
   "metadata": {},
   "outputs": [],
   "source": [
    "## Model\n",
    "#=======================================================================================================================\n",
    "tt = [pickle.load(open(ROOT_DIR + 'projects/CancerRisk/model/' + events[cc] + '/param.pkl', 'rb')) for cc in range(22)]\n",
    "A0 = np.load(ROOT_DIR + 'projects/CancerRisk/model/' + 'all' + '/breslow.npy')\n",
    "A0_base = np.load(ROOT_DIR + 'projects/CancerRisk/model/' + 'all' + '/ukb_agesex.npy')     "
   ]
  },
  {
   "cell_type": "code",
   "execution_count": 3,
   "id": "a61bac24-c328-4a3d-bb9c-b8711b660386",
   "metadata": {},
   "outputs": [],
   "source": [
    "## Plotting Setup\n",
    "#=======================================================================================================================\n",
    "\n",
    "mpl.rcParams['axes.spines.left'] = True\n",
    "mpl.rcParams['axes.spines.right'] = False\n",
    "mpl.rcParams['axes.spines.top'] = False\n",
    "mpl.rcParams['axes.grid'] = False\n",
    "\n",
    "mpl.rcParams['axes.labelpad'] = 1\n",
    "mpl.rcParams['axes.titlepad'] = 1\n",
    "mpl.rcParams['xtick.major.pad'] = 1\n",
    "mpl.rcParams['ytick.major.pad'] = 1\n",
    "mpl.rcParams['hatch.linewidth'] = 0.5\n",
    "\n",
    "plt.rcParams['font.size'] = 6\n",
    "fontsize=6\n",
    "\n",
    "cm = 1/2.54\n",
    "\n",
    "colormap= np.asarray(['#1E90FF', '#BFEFFF', '#191970', '#87CEFA', '#008B8B', '#946448', '#421a01', '#6e0b3c', \n",
    "                '#9370DB', '#7A378B', '#CD6090', '#006400', '#5ebd70', '#f8d64f', '#EEAD0E', '#f8d6cf',\n",
    "                '#CDCB50', '#CD6600', '#FF8C69', '#8f0000', '#b3b3b3', '#454545'])\n",
    "cmap = mpl.cm.get_cmap('RdBu')"
   ]
  },
  {
   "cell_type": "code",
   "execution_count": 7,
   "id": "6e25a863-b3a3-4a57-8386-50483b893ffc",
   "metadata": {},
   "outputs": [
    {
     "name": "stderr",
     "output_type": "stream",
     "text": [
      "100%|██████████| 101/101 [06:00<00:00,  3.57s/it]\n",
      "100%|██████████| 101/101 [06:18<00:00,  3.75s/it]\n"
     ]
    },
    {
     "name": "stdout",
     "output_type": "stream",
     "text": [
      "oesophagus\n"
     ]
    },
    {
     "name": "stderr",
     "output_type": "stream",
     "text": [
      "100%|██████████| 377004/377004 [00:58<00:00, 6457.45it/s]\n"
     ]
    },
    {
     "name": "stdout",
     "output_type": "stream",
     "text": [
      "stomach\n"
     ]
    },
    {
     "name": "stderr",
     "output_type": "stream",
     "text": [
      "100%|██████████| 377004/377004 [00:58<00:00, 6458.71it/s]\n"
     ]
    },
    {
     "name": "stdout",
     "output_type": "stream",
     "text": [
      "colorectal\n"
     ]
    },
    {
     "name": "stderr",
     "output_type": "stream",
     "text": [
      "100%|██████████| 377004/377004 [00:58<00:00, 6461.58it/s]\n"
     ]
    },
    {
     "name": "stdout",
     "output_type": "stream",
     "text": [
      "liver\n"
     ]
    },
    {
     "name": "stderr",
     "output_type": "stream",
     "text": [
      "100%|██████████| 377004/377004 [00:58<00:00, 6448.70it/s]\n"
     ]
    },
    {
     "name": "stdout",
     "output_type": "stream",
     "text": [
      "pancreas\n"
     ]
    },
    {
     "name": "stderr",
     "output_type": "stream",
     "text": [
      "100%|██████████| 377004/377004 [00:58<00:00, 6443.35it/s]\n"
     ]
    },
    {
     "name": "stdout",
     "output_type": "stream",
     "text": [
      "lung\n"
     ]
    },
    {
     "name": "stderr",
     "output_type": "stream",
     "text": [
      "100%|██████████| 377004/377004 [00:58<00:00, 6426.54it/s]\n"
     ]
    },
    {
     "name": "stdout",
     "output_type": "stream",
     "text": [
      "melanoma\n"
     ]
    },
    {
     "name": "stderr",
     "output_type": "stream",
     "text": [
      "100%|██████████| 377004/377004 [00:58<00:00, 6435.88it/s]\n"
     ]
    },
    {
     "name": "stdout",
     "output_type": "stream",
     "text": [
      "breast\n"
     ]
    },
    {
     "name": "stderr",
     "output_type": "stream",
     "text": [
      "100%|██████████| 377004/377004 [00:58<00:00, 6432.88it/s]\n"
     ]
    },
    {
     "name": "stdout",
     "output_type": "stream",
     "text": [
      "cervix_uteri\n"
     ]
    },
    {
     "name": "stderr",
     "output_type": "stream",
     "text": [
      "100%|██████████| 377004/377004 [00:58<00:00, 6440.11it/s]\n"
     ]
    },
    {
     "name": "stdout",
     "output_type": "stream",
     "text": [
      "corpus_uteri\n"
     ]
    },
    {
     "name": "stderr",
     "output_type": "stream",
     "text": [
      "100%|██████████| 377004/377004 [00:58<00:00, 6426.23it/s]\n"
     ]
    },
    {
     "name": "stdout",
     "output_type": "stream",
     "text": [
      "ovary\n"
     ]
    },
    {
     "name": "stderr",
     "output_type": "stream",
     "text": [
      "100%|██████████| 377004/377004 [00:58<00:00, 6417.38it/s]\n"
     ]
    },
    {
     "name": "stdout",
     "output_type": "stream",
     "text": [
      "prostate\n"
     ]
    },
    {
     "name": "stderr",
     "output_type": "stream",
     "text": [
      "100%|██████████| 377004/377004 [00:58<00:00, 6418.25it/s]\n"
     ]
    },
    {
     "name": "stdout",
     "output_type": "stream",
     "text": [
      "testis\n"
     ]
    },
    {
     "name": "stderr",
     "output_type": "stream",
     "text": [
      "100%|██████████| 377004/377004 [00:58<00:00, 6411.65it/s]\n"
     ]
    },
    {
     "name": "stdout",
     "output_type": "stream",
     "text": [
      "kidney\n"
     ]
    },
    {
     "name": "stderr",
     "output_type": "stream",
     "text": [
      "100%|██████████| 377004/377004 [00:58<00:00, 6402.71it/s]\n"
     ]
    },
    {
     "name": "stdout",
     "output_type": "stream",
     "text": [
      "bladder\n"
     ]
    },
    {
     "name": "stderr",
     "output_type": "stream",
     "text": [
      "100%|██████████| 377004/377004 [00:58<00:00, 6412.98it/s]\n"
     ]
    },
    {
     "name": "stdout",
     "output_type": "stream",
     "text": [
      "brain\n"
     ]
    },
    {
     "name": "stderr",
     "output_type": "stream",
     "text": [
      "100%|██████████| 377004/377004 [00:58<00:00, 6402.68it/s]\n"
     ]
    },
    {
     "name": "stdout",
     "output_type": "stream",
     "text": [
      "thyroid\n"
     ]
    },
    {
     "name": "stderr",
     "output_type": "stream",
     "text": [
      "100%|██████████| 377004/377004 [00:58<00:00, 6400.45it/s]\n"
     ]
    },
    {
     "name": "stdout",
     "output_type": "stream",
     "text": [
      "non_hodgkin_lymphoma\n"
     ]
    },
    {
     "name": "stderr",
     "output_type": "stream",
     "text": [
      "100%|██████████| 377004/377004 [00:59<00:00, 6372.33it/s]\n"
     ]
    },
    {
     "name": "stdout",
     "output_type": "stream",
     "text": [
      "multiple_myeloma\n"
     ]
    },
    {
     "name": "stderr",
     "output_type": "stream",
     "text": [
      "100%|██████████| 377004/377004 [00:58<00:00, 6414.49it/s]\n"
     ]
    },
    {
     "name": "stdout",
     "output_type": "stream",
     "text": [
      "AML\n"
     ]
    },
    {
     "name": "stderr",
     "output_type": "stream",
     "text": [
      "100%|██████████| 377004/377004 [00:58<00:00, 6408.03it/s]\n"
     ]
    },
    {
     "name": "stdout",
     "output_type": "stream",
     "text": [
      "other\n"
     ]
    },
    {
     "name": "stderr",
     "output_type": "stream",
     "text": [
      "100%|██████████| 377004/377004 [00:58<00:00, 6394.43it/s]\n"
     ]
    },
    {
     "name": "stdout",
     "output_type": "stream",
     "text": [
      "death\n"
     ]
    },
    {
     "name": "stderr",
     "output_type": "stream",
     "text": [
      "100%|██████████| 377004/377004 [00:58<00:00, 6393.45it/s]\n"
     ]
    }
   ],
   "source": [
    "## Extract Data\n",
    "#======================================================================================================================\n",
    "time = []\n",
    "pred = []\n",
    "for run_id in tqdm.tqdm(range(101)):\n",
    "    with h5py.File(ROOT_DIR + 'projects/CancerRisk/data/main/predictions/ukb_' + str(run_id) + '.h5', 'r') as f:\n",
    "        ll = list(f.keys())\n",
    "        for ii in ll:\n",
    "            time.extend(f[ii]['time'][:, :].tolist())\n",
    "            pred.extend(f[ii]['pred'][:, :].tolist())\n",
    "time = np.asarray(time).astype(float)\n",
    "pred = np.asarray(pred).astype(float)\n",
    "\n",
    "qrisk = []\n",
    "pred2 = []\n",
    "for run_id in tqdm.tqdm(range(101)):\n",
    "    with h5py.File(ROOT_DIR + 'projects/CancerRisk/data/main/predictions/ukb2_' + str(run_id) + '.h5', 'r') as f:\n",
    "        ll = list(f.keys())\n",
    "        for ii in ll:\n",
    "            pred2.extend([f[ii]['pred_sub'][:, :].tolist()])\n",
    "    with h5py.File(ROOT_DIR + 'projects/CancerRisk/data/main/predictions/qrisk_' + str(run_id) + '.h5', 'r') as f:\n",
    "        #ll = list(f.keys())\n",
    "        for ii in ll:\n",
    "            qrisk.extend([f[ii]['pred'][:, :].tolist()]) \n",
    "\n",
    "pred2 = np.asarray(pred2).astype(float)\n",
    "qrisk = np.asarray(qrisk).astype(float)\n",
    "\n",
    "\n",
    "\n",
    "\n",
    "\n",
    "'''\n",
    "dcodes = []\n",
    "for run_id in tqdm.tqdm(range(101)):\n",
    "    with h5py.File(ROOT_DIR + 'projects/CancerRisk/data/main/disease_freq/ukb_' + str(run_id) + '.h5', 'r') as f:\n",
    "        ll = list(f.keys())\n",
    "        for ii in ll:\n",
    "            dcodes.extend(f[ii]['X'][:, :].tolist())\n",
    "dcodes = np.asarray(dcodes).astype(float)\n",
    "dcodes = np.minimum(dcodes, 1) \n",
    "'''\n",
    "\n",
    "'''\n",
    "Apred = []\n",
    "for run_id in tqdm.tqdm(range(252)):\n",
    "    with h5py.File(ROOT_DIR + 'projects/CancerRisk/data/main/predictions_dynamic/ukb_' + str(run_id) + '.h5', 'r') as f:\n",
    "        ll = list(f.keys())\n",
    "        for ii in ll:\n",
    "            Apred.extend(f[ii]['absolute_risk'][:, :, :].tolist())\n",
    "'''\n",
    "\n",
    "tt_surv = time[:, 0]\n",
    "sex = time[:, 1].astype(bool)\n",
    "age = time[:, 2].astype(int)\n",
    "out = pred[:, 0, :].copy()\n",
    "predage = np.arange(18250, 25581, 31)\n",
    "\n",
    "# collect all predictions - 5yrs\n",
    "prediction=[]\n",
    "for cc in (range(22)):\n",
    "    print(events[cc])\n",
    "    idx = np.logical_or(sex, ~sex)\n",
    "    ee = pred[idx, 0, cc].copy()\n",
    "    y_ = ee\n",
    "    tt_ = time[:, 0][idx].copy()\n",
    "    cif_ = CIF(cc=cc, tt0=age[idx], tt_range=1825, A0=A0, pred=pred[idx, 1, :], sex=sex.astype(int)[idx])\n",
    "    pp=[]\n",
    "    for ii in tqdm.tqdm(range(np.sum(idx))):\n",
    "        pp.extend(cif_(ii))\n",
    "    pp = np.asarray(pp)\n",
    "    prediction.extend([pp[:, None]])    \n",
    "prediction = np.concatenate((prediction), axis=1)\n",
    "# adjust sex specific cancers\n",
    "prediction[~sex, 11:13] = 0\n",
    "prediction[sex, 7:11] = 0    \n"
   ]
  },
  {
   "cell_type": "code",
   "execution_count": null,
   "id": "2623aa27-31f2-4a1b-964d-73d3a4e4ee4b",
   "metadata": {},
   "outputs": [],
   "source": []
  },
  {
   "cell_type": "code",
   "execution_count": 8,
   "id": "06b1b501-d1df-4976-a39b-830b6be88e36",
   "metadata": {},
   "outputs": [
    {
     "data": {
      "text/plain": [
       "(377004, 1, 22)"
      ]
     },
     "execution_count": 8,
     "metadata": {},
     "output_type": "execute_result"
    }
   ],
   "source": [
    "qrisk.shape"
   ]
  },
  {
   "cell_type": "code",
   "execution_count": 48,
   "id": "79a68711-0e88-44ca-b5e0-dcfb4b2f742f",
   "metadata": {},
   "outputs": [
    {
     "ename": "NameError",
     "evalue": "name 'eid' is not defined",
     "output_type": "error",
     "traceback": [
      "\u001b[0;31m---------------------------------------------------------------------------\u001b[0m",
      "\u001b[0;31mNameError\u001b[0m                                 Traceback (most recent call last)",
      "\u001b[0;32m<ipython-input-48-ea76f01c04be>\u001b[0m in \u001b[0;36m<module>\u001b[0;34m\u001b[0m\n\u001b[0;32m----> 1\u001b[0;31m \u001b[0meid\u001b[0m\u001b[0;34m\u001b[0m\u001b[0;34m\u001b[0m\u001b[0m\n\u001b[0m",
      "\u001b[0;31mNameError\u001b[0m: name 'eid' is not defined"
     ]
    }
   ],
   "source": [
    "eid"
   ]
  },
  {
   "cell_type": "code",
   "execution_count": 51,
   "id": "9d191766-4543-4501-ae86-9d00cce360b6",
   "metadata": {},
   "outputs": [
    {
     "name": "stderr",
     "output_type": "stream",
     "text": [
      "100%|██████████| 101/101 [00:14<00:00,  6.93it/s]\n"
     ]
    }
   ],
   "source": [
    "eid=[]\n",
    "for run_id in tqdm.tqdm(range(101)):\n",
    "    with h5py.File(ROOT_DIR + 'projects/CancerRisk/data/main/predictions/ukb_' + str(run_id) + '.h5', 'r') as f:\n",
    "        ll = list(f.keys())\n",
    "        eid.extend(ll)\n",
    "eid = np.asarray(eid)"
   ]
  },
  {
   "cell_type": "code",
   "execution_count": 4,
   "id": "76fdcef7-d9bd-43a8-a8c6-b46e5afb267e",
   "metadata": {},
   "outputs": [],
   "source": [
    "eth = pd.read_csv(ROOT_DIR + 'projects/CancerRisk/tmp/eth.csv')"
   ]
  },
  {
   "cell_type": "code",
   "execution_count": 5,
   "id": "853b7195-3033-4cc6-9630-698c8f819541",
   "metadata": {},
   "outputs": [
    {
     "ename": "NameError",
     "evalue": "name 'eid' is not defined",
     "output_type": "error",
     "traceback": [
      "\u001b[0;31m---------------------------------------------------------------------------\u001b[0m",
      "\u001b[0;31mNameError\u001b[0m                                 Traceback (most recent call last)",
      "\u001b[0;32m<ipython-input-5-0a082bbf2fac>\u001b[0m in \u001b[0;36m<module>\u001b[0;34m\u001b[0m\n\u001b[1;32m      1\u001b[0m \u001b[0midx\u001b[0m \u001b[0;34m=\u001b[0m \u001b[0;34m[\u001b[0m\u001b[0;34m]\u001b[0m\u001b[0;34m\u001b[0m\u001b[0;34m\u001b[0m\u001b[0m\n\u001b[1;32m      2\u001b[0m \u001b[0;32mfor\u001b[0m \u001b[0mii\u001b[0m \u001b[0;32min\u001b[0m \u001b[0mnp\u001b[0m\u001b[0;34m.\u001b[0m\u001b[0masarray\u001b[0m\u001b[0;34m(\u001b[0m\u001b[0meth\u001b[0m\u001b[0;34m.\u001b[0m\u001b[0miloc\u001b[0m\u001b[0;34m[\u001b[0m\u001b[0;34m:\u001b[0m\u001b[0;34m,\u001b[0m \u001b[0;36m1\u001b[0m\u001b[0;34m]\u001b[0m\u001b[0;34m)\u001b[0m\u001b[0;34m:\u001b[0m\u001b[0;34m\u001b[0m\u001b[0;34m\u001b[0m\u001b[0m\n\u001b[0;32m----> 3\u001b[0;31m     \u001b[0midx\u001b[0m\u001b[0;34m.\u001b[0m\u001b[0mextend\u001b[0m\u001b[0;34m(\u001b[0m\u001b[0;34m[\u001b[0m\u001b[0mnp\u001b[0m\u001b[0;34m.\u001b[0m\u001b[0many\u001b[0m\u001b[0;34m(\u001b[0m\u001b[0mstr\u001b[0m\u001b[0;34m(\u001b[0m\u001b[0mii\u001b[0m\u001b[0;34m)\u001b[0m\u001b[0;34m==\u001b[0m\u001b[0meid\u001b[0m\u001b[0;34m)\u001b[0m\u001b[0;34m]\u001b[0m\u001b[0;34m)\u001b[0m\u001b[0;34m\u001b[0m\u001b[0;34m\u001b[0m\u001b[0m\n\u001b[0m\u001b[1;32m      4\u001b[0m \u001b[0midx\u001b[0m \u001b[0;34m=\u001b[0m \u001b[0mnp\u001b[0m\u001b[0;34m.\u001b[0m\u001b[0masarray\u001b[0m\u001b[0;34m(\u001b[0m\u001b[0midx\u001b[0m\u001b[0;34m)\u001b[0m\u001b[0;34m\u001b[0m\u001b[0;34m\u001b[0m\u001b[0m\n",
      "\u001b[0;31mNameError\u001b[0m: name 'eid' is not defined"
     ]
    }
   ],
   "source": [
    "idx = []\n",
    "for ii in np.asarray(eth.iloc[:, 1]):\n",
    "    idx.extend([np.any(str(ii)==eid)])\n",
    "idx = np.asarray(idx)"
   ]
  },
  {
   "cell_type": "code",
   "execution_count": null,
   "id": "9a16439c-ef67-4d53-b799-215f90b4fabf",
   "metadata": {},
   "outputs": [],
   "source": [
    "idx.sum()"
   ]
  },
  {
   "cell_type": "code",
   "execution_count": 6,
   "id": "f273a487-e38c-46ab-a197-cac4a9171942",
   "metadata": {},
   "outputs": [],
   "source": [
    "eth = eth.loc[idx, :]"
   ]
  },
  {
   "cell_type": "code",
   "execution_count": 7,
   "id": "93095a54-3852-4521-9473-117063619271",
   "metadata": {},
   "outputs": [],
   "source": [
    "eth = np.asarray(eth.iloc[:, -1])"
   ]
  },
  {
   "cell_type": "code",
   "execution_count": null,
   "id": "4b0d7619-aba6-47ca-9ea3-7c75bfa4576b",
   "metadata": {},
   "outputs": [],
   "source": []
  },
  {
   "cell_type": "code",
   "execution_count": 75,
   "id": "7774e177-7566-4f43-9274-5df6aaf1ab9b",
   "metadata": {},
   "outputs": [
    {
     "data": {
      "text/plain": [
       "(array(['-', '1', '2', '3', '4', '5', '6', 'n'], dtype='<U1'),\n",
       " array([  1421, 354740,   2151,   7460,   5919,   1251,   3412,    650]))"
      ]
     },
     "execution_count": 75,
     "metadata": {},
     "output_type": "execute_result"
    }
   ],
   "source": [
    "np.unique(eth.astype('S1').astype(str), return_counts=True)"
   ]
  },
  {
   "cell_type": "code",
   "execution_count": 90,
   "id": "21f6d750-1262-4928-96f4-1e66e90fa8c5",
   "metadata": {},
   "outputs": [
    {
     "data": {
      "text/plain": [
       "377004"
      ]
     },
     "execution_count": 90,
     "metadata": {},
     "output_type": "execute_result"
    }
   ],
   "source": [
    "1421+650+3412+354740+2151+7460+5919+1251"
   ]
  },
  {
   "cell_type": "code",
   "execution_count": 95,
   "id": "35d3e476-c107-41dc-b91f-b768e5915285",
   "metadata": {},
   "outputs": [
    {
     "data": {
      "text/plain": [
       "0.33182671801890695"
      ]
     },
     "execution_count": 95,
     "metadata": {},
     "output_type": "execute_result"
    }
   ],
   "source": [
    "1251/idx.sum()*100"
   ]
  },
  {
   "cell_type": "code",
   "execution_count": 89,
   "id": "1e302ce4-37a8-45e7-91fc-ddeb0854cf79",
   "metadata": {},
   "outputs": [
    {
     "data": {
      "text/plain": [
       "99.94999999999999"
      ]
     },
     "execution_count": 89,
     "metadata": {},
     "output_type": "execute_result"
    }
   ],
   "source": [
    "94.1+0.57+1.98+1.57+0.33+1.4"
   ]
  },
  {
   "cell_type": "code",
   "execution_count": 26,
   "id": "ebcedc01-be29-4e0c-86a7-d9f1a62b6bf6",
   "metadata": {},
   "outputs": [
    {
     "data": {
      "text/plain": [
       "array(['#1E90FF', '#BFEFFF', '#191970', '#87CEFA', '#008B8B', '#946448',\n",
       "       '#421a01', '#6e0b3c', '#9370DB', '#7A378B', '#CD6090', '#006400',\n",
       "       '#5ebd70', '#f8d64f', '#EEAD0E', '#f8d6cf', '#CDCB50', '#CD6600',\n",
       "       '#FF8C69', '#8f0000', '#b3b3b3', '#454545'], dtype='<U7')"
      ]
     },
     "execution_count": 26,
     "metadata": {},
     "output_type": "execute_result"
    }
   ],
   "source": [
    "colormap\n",
    "for cc in np.where(np.sum(qrisk, axis=0)!= 0)[1]:"
   ]
  },
  {
   "cell_type": "code",
   "execution_count": null,
   "id": "d7293ccd-8a8c-4397-b8ea-e2fb34171ce2",
   "metadata": {},
   "outputs": [],
   "source": [
    "colormap"
   ]
  },
  {
   "cell_type": "code",
   "execution_count": null,
   "id": "2757a4c0-bec7-4ce2-9f15-e50299e2e2c3",
   "metadata": {},
   "outputs": [],
   "source": []
  },
  {
   "cell_type": "code",
   "execution_count": 21,
   "id": "262e9a26-729b-4b3a-b91b-6c82c4b9315c",
   "metadata": {},
   "outputs": [
    {
     "name": "stdout",
     "output_type": "stream",
     "text": [
      "oesophagus\n"
     ]
    },
    {
     "name": "stderr",
     "output_type": "stream",
     "text": [
      "100%|██████████| 377004/377004 [00:42<00:00, 8840.40it/s]\n"
     ]
    },
    {
     "name": "stdout",
     "output_type": "stream",
     "text": [
      "stomach\n"
     ]
    },
    {
     "name": "stderr",
     "output_type": "stream",
     "text": [
      "100%|██████████| 377004/377004 [00:42<00:00, 8927.75it/s]\n"
     ]
    },
    {
     "name": "stdout",
     "output_type": "stream",
     "text": [
      "colorectal\n"
     ]
    },
    {
     "name": "stderr",
     "output_type": "stream",
     "text": [
      "100%|██████████| 377004/377004 [00:43<00:00, 8711.33it/s]\n"
     ]
    },
    {
     "name": "stdout",
     "output_type": "stream",
     "text": [
      "pancreas\n"
     ]
    },
    {
     "name": "stderr",
     "output_type": "stream",
     "text": [
      "100%|██████████| 377004/377004 [00:43<00:00, 8727.19it/s]\n"
     ]
    },
    {
     "name": "stdout",
     "output_type": "stream",
     "text": [
      "lung\n"
     ]
    },
    {
     "name": "stderr",
     "output_type": "stream",
     "text": [
      "100%|██████████| 377004/377004 [00:42<00:00, 8877.75it/s]\n"
     ]
    },
    {
     "name": "stdout",
     "output_type": "stream",
     "text": [
      "breast\n"
     ]
    },
    {
     "name": "stderr",
     "output_type": "stream",
     "text": [
      "100%|██████████| 207233/207233 [00:23<00:00, 8962.47it/s]\n"
     ]
    },
    {
     "name": "stdout",
     "output_type": "stream",
     "text": [
      "cervix_uteri\n"
     ]
    },
    {
     "name": "stderr",
     "output_type": "stream",
     "text": [
      "100%|██████████| 207233/207233 [00:23<00:00, 8932.88it/s]\n"
     ]
    },
    {
     "name": "stdout",
     "output_type": "stream",
     "text": [
      "corpus_uteri\n"
     ]
    },
    {
     "name": "stderr",
     "output_type": "stream",
     "text": [
      "100%|██████████| 207233/207233 [00:23<00:00, 8950.29it/s]\n"
     ]
    },
    {
     "name": "stdout",
     "output_type": "stream",
     "text": [
      "ovary\n"
     ]
    },
    {
     "name": "stderr",
     "output_type": "stream",
     "text": [
      "100%|██████████| 207233/207233 [00:23<00:00, 8929.01it/s]\n"
     ]
    },
    {
     "name": "stdout",
     "output_type": "stream",
     "text": [
      "prostate\n"
     ]
    },
    {
     "name": "stderr",
     "output_type": "stream",
     "text": [
      "100%|██████████| 169771/169771 [00:19<00:00, 8912.67it/s]\n"
     ]
    },
    {
     "name": "stdout",
     "output_type": "stream",
     "text": [
      "testis\n"
     ]
    },
    {
     "name": "stderr",
     "output_type": "stream",
     "text": [
      "100%|██████████| 169771/169771 [00:19<00:00, 8930.20it/s]\n"
     ]
    },
    {
     "name": "stdout",
     "output_type": "stream",
     "text": [
      "kidney\n"
     ]
    },
    {
     "name": "stderr",
     "output_type": "stream",
     "text": [
      "100%|██████████| 377004/377004 [00:42<00:00, 8911.16it/s]\n"
     ]
    },
    {
     "name": "stdout",
     "output_type": "stream",
     "text": [
      "AML\n"
     ]
    },
    {
     "name": "stderr",
     "output_type": "stream",
     "text": [
      "100%|██████████| 377004/377004 [00:42<00:00, 8902.74it/s]\n"
     ]
    }
   ],
   "source": [
    "## Metrics\n",
    "#=======================================================================================================================\n",
    "concordance_qrisk=[]\n",
    "concordance_cox=[]\n",
    "\n",
    "for cc in np.where(np.sum(qrisk, axis=0)!= 0)[1]:\n",
    "    print(events[cc])\n",
    "    \n",
    "    if cc in [7, 8, 9, 10]:\n",
    "        idx = ~sex\n",
    "    elif cc in [11, 12]:\n",
    "        idx = sex\n",
    "    else:\n",
    "        idx = np.logical_or(sex, ~sex)\n",
    "        \n",
    "    ee = pred[idx, 0, cc].copy()\n",
    "    y_ = ee\n",
    "    tt_ = tt_surv[idx].copy()\n",
    "    \n",
    "    cif_ = CIF(cc=cc, tt0=age[idx], tt_range=1195, A0=A0, pred=pred[idx, 1, :], sex=sex.astype(int)[idx])\n",
    "    pp=[]\n",
    "    for ii in tqdm.tqdm(range(np.sum(idx))):\n",
    "        pp.extend(cif_(ii))\n",
    "    pp = np.asarray(pp)\n",
    "    \n",
    "    dd = pd.DataFrame(np.concatenate((tt_surv[idx, None], y_[:, None], pp[:, None], qrisk[idx, 0, cc, None]), axis=1).astype(float))\n",
    "    dd.columns = ['time', 'events', 'cox', 'qrisk']\n",
    "    dd.to_csv(ROOT_DIR + 'projects/CancerRisk/output/' + events[cc] + '/data/comparision_raw.csv', sep=';')\n",
    "\n",
    "    a = '''\n",
    "    rm(list=ls())\n",
    "    library(survival)\n",
    "    ROOT_DIR = '/nfs/research/sds/sds-ukb-cancer/projects/CancerRisk/'\n",
    "    '''\n",
    "\n",
    "    b = 'data_name = ' + \"'output/\" + str(events[cc]) + \"/data/comparision_raw.csv'\"\n",
    "\n",
    "    c = '''\n",
    "    dd <- read.csv(paste(ROOT_DIR, data_name, sep=''), header=TRUE, sep=';')\n",
    "\n",
    "    m = coxph(Surv(time, events)~cox, data=dd)\n",
    "    x = paste(unname(summary(m)$concordance[1]), unname(summary(m)$concordance[2]), sep=';')\n",
    "    write(x, file=paste('/nfs/research/sds/sds-ukb-cancer/projects/CancerRisk/tmp3/est_conc1.txt', sep=''), append=FALSE, sep=\";\")\n",
    "    \n",
    "        m = coxph(Surv(time, events)~qrisk, data=dd)\n",
    "    x = paste(unname(summary(m)$concordance[1]), unname(summary(m)$concordance[2]), sep=';')\n",
    "    write(x, file=paste('/nfs/research/sds/sds-ukb-cancer/projects/CancerRisk/tmp3/est_conc2.txt', sep=''), append=FALSE, sep=\";\")\n",
    "    \n",
    "    '''\n",
    "\n",
    "    with open('/nfs/research/sds/sds-ukb-cancer/projects/CancerRisk/tmp3/est_conc.R', 'w') as write_out:\n",
    "        write_out.write(a+b+c)\n",
    "\n",
    "    subprocess.check_call(['Rscript', '/nfs/research/sds/sds-ukb-cancer/projects/CancerRisk/tmp3/est_conc.R'], shell=False)\n",
    "    os.remove('/nfs/research/sds/sds-ukb-cancer/projects/CancerRisk/tmp3/est_conc.R')\n",
    "\n",
    "    conc = np.squeeze(np.loadtxt('/nfs/research/sds/sds-ukb-cancer/projects/CancerRisk/tmp3/est_conc1.txt', delimiter=';'))\n",
    "    concordance_cox.extend([conc.tolist()])\n",
    "    \n",
    "    conc = np.squeeze(np.loadtxt('/nfs/research/sds/sds-ukb-cancer/projects/CancerRisk/tmp3/est_conc2.txt', delimiter=';'))\n",
    "    concordance_qrisk.extend([conc.tolist()])\n",
    "\n",
    "\n",
    "    os.remove('/nfs/research/sds/sds-ukb-cancer/projects/CancerRisk/tmp3/est_conc1.txt')\n",
    "    os.remove('/nfs/research/sds/sds-ukb-cancer/projects/CancerRisk/tmp3/est_conc2.txt')\n",
    "    "
   ]
  },
  {
   "cell_type": "code",
   "execution_count": 22,
   "id": "f65f947c-7773-4d4c-b4b6-2a5f26b327c1",
   "metadata": {},
   "outputs": [],
   "source": [
    "concordance_cox = np.asarray(concordance_cox)\n",
    "concordance_qrisk = np.asarray(concordance_qrisk)"
   ]
  },
  {
   "cell_type": "code",
   "execution_count": 44,
   "id": "5a2b9710-ae42-4da4-a102-53e5ae6d853f",
   "metadata": {},
   "outputs": [],
   "source": [
    "qrisk_conc = pd.DataFrame(concordance_qrisk)\n",
    "qrisk_conc.columns = ['qrisk_concordance', 'qrisk_sd']\n",
    "qrisk_conc.to_csv(ROOT_DIR + 'projects/CancerRisk/output/' + 'main' + '/tables/qrisk.csv')"
   ]
  },
  {
   "cell_type": "code",
   "execution_count": null,
   "id": "ebf9ad8b-edc7-47c0-b9ee-24a0403ecdd8",
   "metadata": {},
   "outputs": [],
   "source": []
  },
  {
   "cell_type": "code",
   "execution_count": null,
   "id": "b1e8c6c7-97e3-4907-9f25-e040df807b23",
   "metadata": {},
   "outputs": [],
   "source": []
  },
  {
   "cell_type": "code",
   "execution_count": 47,
   "id": "1d3ff145-0e4e-49c3-b2c9-2cb3b9ea7cc7",
   "metadata": {},
   "outputs": [
    {
     "data": {
      "image/png": "[encoded data removed]",
      "text/plain": [
       "<Figure size 1181.1x1181.1 with 1 Axes>"
      ]
     },
     "metadata": {
      "needs_background": "light"
     },
     "output_type": "display_data"
    }
   ],
   "source": [
    "fig, ax = plt.subplots(1, 1, figsize=(5*cm, 5*cm), dpi=600, sharey=True)\n",
    "fig.subplots_adjust(wspace=0.05)\n",
    "\n",
    "ax.plot([0, 1], [0, 1], color='black', ls='--', lw=0.5) \n",
    "\n",
    "n = 0\n",
    "for cc in np.where(np.sum(qrisk, axis=0)!= 0)[1]:\n",
    "    col = colormap[cc]             \n",
    "    ax.scatter(x=concordance_qrisk[n, 0], y=concordance_cox[n, 0], marker='.', color=col, s=50)\n",
    "    n += 1\n",
    "ax.set_xlim([0.5, 1])\n",
    "ax.set_ylim([0.5, 1])\n",
    "ax.set_xlabel('Qrisk')\n",
    "ax.set_ylabel('Ours')\n",
    "\n",
    "plt.savefig(ROOT_DIR + 'projects/CancerRisk/output/' + 'main' + '/figures/qrisk.pdf', dpi=600, bbox_inches='tight', transparent=True)\n",
    "plt.show()\n",
    "plt.close()   "
   ]
  },
  {
   "cell_type": "code",
   "execution_count": 32,
   "id": "f729ac2d-379a-49f4-83de-402071b20989",
   "metadata": {},
   "outputs": [
    {
     "data": {
      "text/plain": [
       "array([[0.7419903 , 0.01364592],\n",
       "       [0.70475394, 0.01724511],\n",
       "       [0.65692131, 0.00709695],\n",
       "       [0.66681346, 0.01369133],\n",
       "       [0.78111722, 0.00701388],\n",
       "       [0.57091168, 0.00613095],\n",
       "       [0.55132001, 0.05419731],\n",
       "       [0.62291667, 0.01468783],\n",
       "       [0.57705005, 0.01705078],\n",
       "       [0.6599203 , 0.00502697],\n",
       "       [0.73964312, 0.09582207],\n",
       "       [0.6728318 , 0.013885  ],\n",
       "       [0.70916887, 0.03793483]])"
      ]
     },
     "execution_count": 32,
     "metadata": {},
     "output_type": "execute_result"
    }
   ],
   "source": [
    "concordance_cox"
   ]
  },
  {
   "cell_type": "code",
   "execution_count": null,
   "id": "cb035302-dcc8-4edf-969b-8f7abb0718b2",
   "metadata": {},
   "outputs": [],
   "source": [
    "plt.scatter(concordance_qrisk, concordance_cox)"
   ]
  },
  {
   "cell_type": "code",
   "execution_count": 25,
   "id": "8cc9d96c-a6b7-47f5-aae9-7890a9ba7124",
   "metadata": {},
   "outputs": [
    {
     "data": {
      "text/plain": [
       "array([[0.72311919, 0.01342368],\n",
       "       [0.67496869, 0.01664253],\n",
       "       [0.6034332 , 0.00668459],\n",
       "       [0.62748953, 0.01361505],\n",
       "       [0.76670349, 0.00660773],\n",
       "       [0.55539049, 0.00603066],\n",
       "       [0.51485256, 0.04761921],\n",
       "       [0.60734175, 0.01442881],\n",
       "       [0.54572903, 0.01595471],\n",
       "       [0.65337637, 0.00496997],\n",
       "       [0.5389638 , 0.0908452 ],\n",
       "       [0.65194456, 0.01344173],\n",
       "       [0.61774251, 0.0367893 ]])"
      ]
     },
     "execution_count": 25,
     "metadata": {},
     "output_type": "execute_result"
    }
   ],
   "source": [
    "concordance_qrisk"
   ]
  },
  {
   "cell_type": "code",
   "execution_count": null,
   "id": "de7fe7a5-5755-43db-a99e-8ea7bcb45333",
   "metadata": {},
   "outputs": [],
   "source": [
    "\n",
    "Events = ['Oesophagus', 'Stomach', 'Colorectal', 'Liver', 'Pancreas', 'Lung', 'Melanoma', 'Breast', \n",
    "                'Cervix Uteri', 'Corpus Uteri', 'Ovary', 'Prostate', 'Testis', 'Kidney', 'Bladder', 'Brain',\n",
    "                'Thyroid', 'NHL', 'MM', 'AML', 'Other', 'Death']"
   ]
  },
  {
   "cell_type": "code",
   "execution_count": 8,
   "id": "5142e18c-99c9-407c-8799-a2634037ddcc",
   "metadata": {},
   "outputs": [
    {
     "name": "stdout",
     "output_type": "stream",
     "text": [
      "finsihed\n"
     ]
    }
   ],
   "source": [
    "print('finsihed')"
   ]
  },
  {
   "cell_type": "code",
   "execution_count": null,
   "id": "5562e0b2-fbaf-4cbe-86a5-a99d77afd3e0",
   "metadata": {},
   "outputs": [],
   "source": [
    "exit()"
   ]
  }
 ],
 "metadata": {
  "kernelspec": {
   "display_name": "Python 3",
   "language": "python",
   "name": "python3"
  },
  "language_info": {
   "codemirror_mode": {
    "name": "ipython",
    "version": 3
   },
   "file_extension": ".py",
   "mimetype": "text/x-python",
   "name": "python",
   "nbconvert_exporter": "python",
   "pygments_lexer": "ipython3",
   "version": "3.6.8"
  }
 },
 "nbformat": 4,
 "nbformat_minor": 5
}
